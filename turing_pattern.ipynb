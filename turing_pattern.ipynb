{
 "cells": [
  {
   "cell_type": "code",
   "execution_count": 20,
   "metadata": {},
   "outputs": [],
   "source": [
    "import numpy as np\n",
    "import matplotlib.pyplot as plt\n",
    "import matplotlib.animation as animation\n",
    "#%matplotlib inline\n",
    "\n",
    "from scipy.signal import convolve2d"
   ]
  },
  {
   "cell_type": "code",
   "execution_count": 21,
   "metadata": {},
   "outputs": [],
   "source": [
    "class turing_simulation():\n",
    "    def __init__(self):\n",
    "        self.Du = 0.20\n",
    "        self.tu = 0.01\n",
    "        self.Dv = 0.25#0.5\n",
    "        self.tv = 0.01#0.01\n",
    "        self.u = np.random.rand(100,100)\n",
    "        self.v = np.random.rand(100,100)\n",
    "        self.kernel_2d = np.array([[0,1,0],[1,-4,1],[0,1,0]])\n",
    "    def step(self):\n",
    "        dudt = convolve2d(self.u, self.kernel_2d, mode = 'same',fillvalue= np.mean(self.u))\n",
    "        dudt = self.Du * dudt + self.u - self.u**3 - self.v\n",
    "        self.u += self.tu * dudt\n",
    "        dvdt = convolve2d(self.v, self.kernel_2d, mode = 'same',fillvalue= np.mean(self.v))\n",
    "        dvdt = self.Dv * dvdt + self.u - self.v\n",
    "        self.v += self.tv * dvdt\n",
    "    def step_and_plot(self, n_step = 10):        \n",
    "        for _ in range(n_step):\n",
    "            self.step()\n",
    "\n",
    "#         plt.subplot(1,2,1)\n",
    "        return plt.imshow(self.u)\n",
    "#         plt.axis('off')\n",
    "#         plt.subplot(1,2,2)\n",
    "#         plt.imshow(self.v)\n",
    "#         plt.axis('off')\n",
    "        "
   ]
  },
  {
   "cell_type": "code",
   "execution_count": 19,
   "metadata": {},
   "outputs": [],
   "source": [
    "turing = turing_simulation()\n",
    "\n",
    "#plot\n",
    "ims = []\n",
    "fig = plt.figure(figsize=[5,5])\n",
    "for _ in range(300):\n",
    "    img = turing.step_and_plot(100)\n",
    "    plt.axis('off')\n",
    "    ims.append([img])\n",
    "        \n",
    "ani = animation.ArtistAnimation(fig, ims)\n",
    "ani.save('turing_animation_2.gif', writer=\"imagemagick\")\n",
    "#plt.show()\n",
    "plt.close()"
   ]
  },
  {
   "cell_type": "code",
   "execution_count": null,
   "metadata": {},
   "outputs": [],
   "source": []
  }
 ],
 "metadata": {
  "kernelspec": {
   "display_name": "Python 3",
   "language": "python",
   "name": "python3"
  },
  "language_info": {
   "codemirror_mode": {
    "name": "ipython",
    "version": 3
   },
   "file_extension": ".py",
   "mimetype": "text/x-python",
   "name": "python",
   "nbconvert_exporter": "python",
   "pygments_lexer": "ipython3",
   "version": "3.6.4"
  }
 },
 "nbformat": 4,
 "nbformat_minor": 2
}
